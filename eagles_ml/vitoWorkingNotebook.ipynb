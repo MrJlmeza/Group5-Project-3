{
 "cells": [
  {
   "cell_type": "code",
   "execution_count": 1,
   "id": "knowing-stock",
   "metadata": {},
   "outputs": [
    {
     "ename": "FileNotFoundError",
     "evalue": "[Errno 2] No such file or directory: 'newghUTF8.csv'",
     "output_type": "error",
     "traceback": [
      "\u001b[1;31m---------------------------------------------------------------------------\u001b[0m",
      "\u001b[1;31mFileNotFoundError\u001b[0m                         Traceback (most recent call last)",
      "\u001b[1;32m<ipython-input-1-a103a9194e17>\u001b[0m in \u001b[0;36m<module>\u001b[1;34m\u001b[0m\n\u001b[0;32m      6\u001b[0m \u001b[0mdataToLoad\u001b[0m \u001b[1;33m=\u001b[0m \u001b[1;34m\"newghUTF8.csv\"\u001b[0m\u001b[1;33m\u001b[0m\u001b[1;33m\u001b[0m\u001b[0m\n\u001b[0;32m      7\u001b[0m \u001b[1;33m\u001b[0m\u001b[0m\n\u001b[1;32m----> 8\u001b[1;33m \u001b[0mgrubhubDirty\u001b[0m \u001b[1;33m=\u001b[0m \u001b[0mpd\u001b[0m\u001b[1;33m.\u001b[0m\u001b[0mread_csv\u001b[0m\u001b[1;33m(\u001b[0m\u001b[0mdataToLoad\u001b[0m\u001b[1;33m,\u001b[0m \u001b[0mencoding\u001b[0m\u001b[1;33m=\u001b[0m\u001b[1;34m'utf8'\u001b[0m\u001b[1;33m)\u001b[0m\u001b[1;33m\u001b[0m\u001b[1;33m\u001b[0m\u001b[0m\n\u001b[0m",
      "\u001b[1;32m~\\anaconda3\\envs\\PythonData\\lib\\site-packages\\pandas\\io\\parsers.py\u001b[0m in \u001b[0;36mread_csv\u001b[1;34m(filepath_or_buffer, sep, delimiter, header, names, index_col, usecols, squeeze, prefix, mangle_dupe_cols, dtype, engine, converters, true_values, false_values, skipinitialspace, skiprows, skipfooter, nrows, na_values, keep_default_na, na_filter, verbose, skip_blank_lines, parse_dates, infer_datetime_format, keep_date_col, date_parser, dayfirst, cache_dates, iterator, chunksize, compression, thousands, decimal, lineterminator, quotechar, quoting, doublequote, escapechar, comment, encoding, dialect, error_bad_lines, warn_bad_lines, delim_whitespace, low_memory, memory_map, float_precision, storage_options)\u001b[0m\n\u001b[0;32m    608\u001b[0m     \u001b[0mkwds\u001b[0m\u001b[1;33m.\u001b[0m\u001b[0mupdate\u001b[0m\u001b[1;33m(\u001b[0m\u001b[0mkwds_defaults\u001b[0m\u001b[1;33m)\u001b[0m\u001b[1;33m\u001b[0m\u001b[1;33m\u001b[0m\u001b[0m\n\u001b[0;32m    609\u001b[0m \u001b[1;33m\u001b[0m\u001b[0m\n\u001b[1;32m--> 610\u001b[1;33m     \u001b[1;32mreturn\u001b[0m \u001b[0m_read\u001b[0m\u001b[1;33m(\u001b[0m\u001b[0mfilepath_or_buffer\u001b[0m\u001b[1;33m,\u001b[0m \u001b[0mkwds\u001b[0m\u001b[1;33m)\u001b[0m\u001b[1;33m\u001b[0m\u001b[1;33m\u001b[0m\u001b[0m\n\u001b[0m\u001b[0;32m    611\u001b[0m \u001b[1;33m\u001b[0m\u001b[0m\n\u001b[0;32m    612\u001b[0m \u001b[1;33m\u001b[0m\u001b[0m\n",
      "\u001b[1;32m~\\anaconda3\\envs\\PythonData\\lib\\site-packages\\pandas\\io\\parsers.py\u001b[0m in \u001b[0;36m_read\u001b[1;34m(filepath_or_buffer, kwds)\u001b[0m\n\u001b[0;32m    460\u001b[0m \u001b[1;33m\u001b[0m\u001b[0m\n\u001b[0;32m    461\u001b[0m     \u001b[1;31m# Create the parser.\u001b[0m\u001b[1;33m\u001b[0m\u001b[1;33m\u001b[0m\u001b[1;33m\u001b[0m\u001b[0m\n\u001b[1;32m--> 462\u001b[1;33m     \u001b[0mparser\u001b[0m \u001b[1;33m=\u001b[0m \u001b[0mTextFileReader\u001b[0m\u001b[1;33m(\u001b[0m\u001b[0mfilepath_or_buffer\u001b[0m\u001b[1;33m,\u001b[0m \u001b[1;33m**\u001b[0m\u001b[0mkwds\u001b[0m\u001b[1;33m)\u001b[0m\u001b[1;33m\u001b[0m\u001b[1;33m\u001b[0m\u001b[0m\n\u001b[0m\u001b[0;32m    463\u001b[0m \u001b[1;33m\u001b[0m\u001b[0m\n\u001b[0;32m    464\u001b[0m     \u001b[1;32mif\u001b[0m \u001b[0mchunksize\u001b[0m \u001b[1;32mor\u001b[0m \u001b[0miterator\u001b[0m\u001b[1;33m:\u001b[0m\u001b[1;33m\u001b[0m\u001b[1;33m\u001b[0m\u001b[0m\n",
      "\u001b[1;32m~\\anaconda3\\envs\\PythonData\\lib\\site-packages\\pandas\\io\\parsers.py\u001b[0m in \u001b[0;36m__init__\u001b[1;34m(self, f, engine, **kwds)\u001b[0m\n\u001b[0;32m    817\u001b[0m             \u001b[0mself\u001b[0m\u001b[1;33m.\u001b[0m\u001b[0moptions\u001b[0m\u001b[1;33m[\u001b[0m\u001b[1;34m\"has_index_names\"\u001b[0m\u001b[1;33m]\u001b[0m \u001b[1;33m=\u001b[0m \u001b[0mkwds\u001b[0m\u001b[1;33m[\u001b[0m\u001b[1;34m\"has_index_names\"\u001b[0m\u001b[1;33m]\u001b[0m\u001b[1;33m\u001b[0m\u001b[1;33m\u001b[0m\u001b[0m\n\u001b[0;32m    818\u001b[0m \u001b[1;33m\u001b[0m\u001b[0m\n\u001b[1;32m--> 819\u001b[1;33m         \u001b[0mself\u001b[0m\u001b[1;33m.\u001b[0m\u001b[0m_engine\u001b[0m \u001b[1;33m=\u001b[0m \u001b[0mself\u001b[0m\u001b[1;33m.\u001b[0m\u001b[0m_make_engine\u001b[0m\u001b[1;33m(\u001b[0m\u001b[0mself\u001b[0m\u001b[1;33m.\u001b[0m\u001b[0mengine\u001b[0m\u001b[1;33m)\u001b[0m\u001b[1;33m\u001b[0m\u001b[1;33m\u001b[0m\u001b[0m\n\u001b[0m\u001b[0;32m    820\u001b[0m \u001b[1;33m\u001b[0m\u001b[0m\n\u001b[0;32m    821\u001b[0m     \u001b[1;32mdef\u001b[0m \u001b[0mclose\u001b[0m\u001b[1;33m(\u001b[0m\u001b[0mself\u001b[0m\u001b[1;33m)\u001b[0m\u001b[1;33m:\u001b[0m\u001b[1;33m\u001b[0m\u001b[1;33m\u001b[0m\u001b[0m\n",
      "\u001b[1;32m~\\anaconda3\\envs\\PythonData\\lib\\site-packages\\pandas\\io\\parsers.py\u001b[0m in \u001b[0;36m_make_engine\u001b[1;34m(self, engine)\u001b[0m\n\u001b[0;32m   1048\u001b[0m             )\n\u001b[0;32m   1049\u001b[0m         \u001b[1;31m# error: Too many arguments for \"ParserBase\"\u001b[0m\u001b[1;33m\u001b[0m\u001b[1;33m\u001b[0m\u001b[1;33m\u001b[0m\u001b[0m\n\u001b[1;32m-> 1050\u001b[1;33m         \u001b[1;32mreturn\u001b[0m \u001b[0mmapping\u001b[0m\u001b[1;33m[\u001b[0m\u001b[0mengine\u001b[0m\u001b[1;33m]\u001b[0m\u001b[1;33m(\u001b[0m\u001b[0mself\u001b[0m\u001b[1;33m.\u001b[0m\u001b[0mf\u001b[0m\u001b[1;33m,\u001b[0m \u001b[1;33m**\u001b[0m\u001b[0mself\u001b[0m\u001b[1;33m.\u001b[0m\u001b[0moptions\u001b[0m\u001b[1;33m)\u001b[0m  \u001b[1;31m# type: ignore[call-arg]\u001b[0m\u001b[1;33m\u001b[0m\u001b[1;33m\u001b[0m\u001b[0m\n\u001b[0m\u001b[0;32m   1051\u001b[0m \u001b[1;33m\u001b[0m\u001b[0m\n\u001b[0;32m   1052\u001b[0m     \u001b[1;32mdef\u001b[0m \u001b[0m_failover_to_python\u001b[0m\u001b[1;33m(\u001b[0m\u001b[0mself\u001b[0m\u001b[1;33m)\u001b[0m\u001b[1;33m:\u001b[0m\u001b[1;33m\u001b[0m\u001b[1;33m\u001b[0m\u001b[0m\n",
      "\u001b[1;32m~\\anaconda3\\envs\\PythonData\\lib\\site-packages\\pandas\\io\\parsers.py\u001b[0m in \u001b[0;36m__init__\u001b[1;34m(self, src, **kwds)\u001b[0m\n\u001b[0;32m   1865\u001b[0m \u001b[1;33m\u001b[0m\u001b[0m\n\u001b[0;32m   1866\u001b[0m         \u001b[1;31m# open handles\u001b[0m\u001b[1;33m\u001b[0m\u001b[1;33m\u001b[0m\u001b[1;33m\u001b[0m\u001b[0m\n\u001b[1;32m-> 1867\u001b[1;33m         \u001b[0mself\u001b[0m\u001b[1;33m.\u001b[0m\u001b[0m_open_handles\u001b[0m\u001b[1;33m(\u001b[0m\u001b[0msrc\u001b[0m\u001b[1;33m,\u001b[0m \u001b[0mkwds\u001b[0m\u001b[1;33m)\u001b[0m\u001b[1;33m\u001b[0m\u001b[1;33m\u001b[0m\u001b[0m\n\u001b[0m\u001b[0;32m   1868\u001b[0m         \u001b[1;32massert\u001b[0m \u001b[0mself\u001b[0m\u001b[1;33m.\u001b[0m\u001b[0mhandles\u001b[0m \u001b[1;32mis\u001b[0m \u001b[1;32mnot\u001b[0m \u001b[1;32mNone\u001b[0m\u001b[1;33m\u001b[0m\u001b[1;33m\u001b[0m\u001b[0m\n\u001b[0;32m   1869\u001b[0m         \u001b[1;32mfor\u001b[0m \u001b[0mkey\u001b[0m \u001b[1;32min\u001b[0m \u001b[1;33m(\u001b[0m\u001b[1;34m\"storage_options\"\u001b[0m\u001b[1;33m,\u001b[0m \u001b[1;34m\"encoding\"\u001b[0m\u001b[1;33m,\u001b[0m \u001b[1;34m\"memory_map\"\u001b[0m\u001b[1;33m,\u001b[0m \u001b[1;34m\"compression\"\u001b[0m\u001b[1;33m)\u001b[0m\u001b[1;33m:\u001b[0m\u001b[1;33m\u001b[0m\u001b[1;33m\u001b[0m\u001b[0m\n",
      "\u001b[1;32m~\\anaconda3\\envs\\PythonData\\lib\\site-packages\\pandas\\io\\parsers.py\u001b[0m in \u001b[0;36m_open_handles\u001b[1;34m(self, src, kwds)\u001b[0m\n\u001b[0;32m   1360\u001b[0m         \u001b[0mLet\u001b[0m \u001b[0mthe\u001b[0m \u001b[0mreaders\u001b[0m \u001b[0mopen\u001b[0m \u001b[0mIOHanldes\u001b[0m \u001b[0mafter\u001b[0m \u001b[0mthey\u001b[0m \u001b[0mare\u001b[0m \u001b[0mdone\u001b[0m \u001b[1;32mwith\u001b[0m \u001b[0mtheir\u001b[0m \u001b[0mpotential\u001b[0m \u001b[0mraises\u001b[0m\u001b[1;33m.\u001b[0m\u001b[1;33m\u001b[0m\u001b[1;33m\u001b[0m\u001b[0m\n\u001b[0;32m   1361\u001b[0m         \"\"\"\n\u001b[1;32m-> 1362\u001b[1;33m         self.handles = get_handle(\n\u001b[0m\u001b[0;32m   1363\u001b[0m             \u001b[0msrc\u001b[0m\u001b[1;33m,\u001b[0m\u001b[1;33m\u001b[0m\u001b[1;33m\u001b[0m\u001b[0m\n\u001b[0;32m   1364\u001b[0m             \u001b[1;34m\"r\"\u001b[0m\u001b[1;33m,\u001b[0m\u001b[1;33m\u001b[0m\u001b[1;33m\u001b[0m\u001b[0m\n",
      "\u001b[1;32m~\\anaconda3\\envs\\PythonData\\lib\\site-packages\\pandas\\io\\common.py\u001b[0m in \u001b[0;36mget_handle\u001b[1;34m(path_or_buf, mode, encoding, compression, memory_map, is_text, errors, storage_options)\u001b[0m\n\u001b[0;32m    640\u001b[0m                 \u001b[0merrors\u001b[0m \u001b[1;33m=\u001b[0m \u001b[1;34m\"replace\"\u001b[0m\u001b[1;33m\u001b[0m\u001b[1;33m\u001b[0m\u001b[0m\n\u001b[0;32m    641\u001b[0m             \u001b[1;31m# Encoding\u001b[0m\u001b[1;33m\u001b[0m\u001b[1;33m\u001b[0m\u001b[1;33m\u001b[0m\u001b[0m\n\u001b[1;32m--> 642\u001b[1;33m             handle = open(\n\u001b[0m\u001b[0;32m    643\u001b[0m                 \u001b[0mhandle\u001b[0m\u001b[1;33m,\u001b[0m\u001b[1;33m\u001b[0m\u001b[1;33m\u001b[0m\u001b[0m\n\u001b[0;32m    644\u001b[0m                 \u001b[0mioargs\u001b[0m\u001b[1;33m.\u001b[0m\u001b[0mmode\u001b[0m\u001b[1;33m,\u001b[0m\u001b[1;33m\u001b[0m\u001b[1;33m\u001b[0m\u001b[0m\n",
      "\u001b[1;31mFileNotFoundError\u001b[0m: [Errno 2] No such file or directory: 'newghUTF8.csv'"
     ]
    }
   ],
   "source": [
    "import pandas as pd\n",
    "import matplotlib.pyplot as plt\n",
    "import scipy.stats as st\n",
    "import numpy as np\n",
    "\n",
    "dataToLoad = \"newghUTF8.csv\"\n",
    "\n",
    "grubhubDirty = pd.read_csv(dataToLoad, encoding='utf8')"
   ]
  },
  {
   "cell_type": "code",
   "execution_count": null,
   "id": "incredible-excerpt",
   "metadata": {},
   "outputs": [],
   "source": [
    "grubhubDirty.head(3)"
   ]
  },
  {
   "cell_type": "code",
   "execution_count": null,
   "id": "atlantic-election",
   "metadata": {},
   "outputs": [],
   "source": [
    "# Getting later grouped by out of the way\n",
    "groupedByEstablishment = grubhubDirty.groupby(['streetname', 'establishment'])\n",
    "groupedMeanDF = groupedByEstablishment.mean()\n",
    "groupedMeanDF.head()"
   ]
  },
  {
   "cell_type": "markdown",
   "id": "average-sunglasses",
   "metadata": {},
   "source": [
    "# Quick Transformations"
   ]
  },
  {
   "cell_type": "code",
   "execution_count": null,
   "id": "thick-directive",
   "metadata": {},
   "outputs": [],
   "source": [
    "ordersPerEstablishment = groupedByEstablishment[\"tip\"].count()\n",
    "ordersPerEstablishment.rename(\"ordersFromEstablishment\")\n",
    "ordersPerEstablishmentDF = pd.merge(grubhubDirty, ordersPerEstablishment, how = \"inner\", on = \"streetname\")\n",
    "ordersPerEstablishmentDF = ordersPerEstablishmentDF.rename(columns = {'tip_x': 'tip', 'tip_y': 'aggOrders'})\n",
    "grubhubClean = ordersPerEstablishmentDF\n",
    "#grubhubClean.head(3)"
   ]
  },
  {
   "cell_type": "code",
   "execution_count": null,
   "id": "electrical-guest",
   "metadata": {},
   "outputs": [],
   "source": [
    "groupedByEstablishment = grubhubClean.groupby(['streetname', 'establishment'])\n",
    "groupedMeanDF = groupedByEstablishment.mean()\n",
    "groupedMeanDF.head()"
   ]
  },
  {
   "cell_type": "markdown",
   "id": "proud-stylus",
   "metadata": {},
   "source": [
    "# Summary Tables"
   ]
  },
  {
   "cell_type": "code",
   "execution_count": null,
   "id": "military-brighton",
   "metadata": {},
   "outputs": [],
   "source": [
    "totalEstablishments = len(grubhubClean[\"streetname\"].unique())\n",
    "totalOrders = len(grubhubDirty)\n",
    "totalMiles = grubhubClean[\"miles\"].sum()\n",
    "totalMilePay = grubhubClean[\"mileagePay\"].sum()\n",
    "totalTimePay = grubhubClean[\"timePay\"].sum()\n",
    "totalBonusPay = grubhubClean[\"bonus\"].sum()\n",
    "totalTips = grubhubClean[\"tip\"].sum()\n",
    "totalPay = grubhubClean[\"total\"].sum()\n",
    "grubhubShare = totalPay - totalTips"
   ]
  },
  {
   "cell_type": "code",
   "execution_count": null,
   "id": "objective-humidity",
   "metadata": {},
   "outputs": [],
   "source": [
    "basicSummaryDF = pd.DataFrame({\n",
    "    \n",
    "    \"Total Establishments\": [totalEstablishments],\n",
    "    \"Total Orders\": [totalOrders],\n",
    "    \"Total Miles\": [totalMiles],\n",
    "    \"Total Pay\": [totalPay],\n",
    "    \"Total Tips\": [totalTips],\n",
    "    \"GrubHub Share\": [grubhubShare],\n",
    "    \"Total Mile Pay\": [totalMilePay],\n",
    "    \"Total Time Pay\": [totalTimePay],\n",
    "    \"Total Bonus\": [totalBonusPay]\n",
    "    \n",
    "})\n",
    "\n",
    "basicSummaryDF"
   ]
  },
  {
   "cell_type": "code",
   "execution_count": null,
   "id": "biological-incidence",
   "metadata": {},
   "outputs": [],
   "source": [
    "timePayPerOrder = totalTimePay/totalOrders\n",
    "milesPerOrder = totalMiles/totalOrders\n",
    "payPerMile = totalMilePay/totalMiles\n",
    "bonusPerOrder = totalBonusPay/totalEstablishments\n",
    "averageTip = grubhubClean[\"tip\"].mean()\n",
    "averageOrderTotal = totalPay/totalOrders\n",
    "grubhubAverage = averageOrderTotal - averageTip\n",
    "milePayPerOrder = totalMilePay/totalOrders\n",
    "timePayPerOrder = grubhubClean[\"timePay\"].mean()"
   ]
  },
  {
   "cell_type": "code",
   "execution_count": null,
   "id": "clinical-anchor",
   "metadata": {},
   "outputs": [],
   "source": [
    "relativeSummaryDF = pd.DataFrame({\n",
    "    \n",
    "    \"Average Total Pay per Order\": [averageOrderTotal],\n",
    "    \"Average Tip\": [averageTip],\n",
    "    \"GrubHub Average\": [grubhubAverage],\n",
    "    \"Miles Per Order\": [milesPerOrder],\n",
    "    \"Pay Per Mile\": [payPerMile],\n",
    "    \"Mile Pay Per Order\": [milePayPerOrder],\n",
    "    \"Time Pay Per Order\": [timePayPerOrder],\n",
    "    \"Bonus Per Order\": [bonusPerOrder]    \n",
    "    \n",
    "})\n",
    "relativeSummaryDF"
   ]
  },
  {
   "cell_type": "markdown",
   "id": "north-lebanon",
   "metadata": {},
   "source": [
    "# 1. Frequency Analysis"
   ]
  },
  {
   "cell_type": "code",
   "execution_count": null,
   "id": "stylish-flush",
   "metadata": {},
   "outputs": [],
   "source": [
    "frequentOrders = groupedMeanDF.loc[groupedMeanDF[\"aggOrders\"] >= 10]\n",
    "frequentOrders"
   ]
  },
  {
   "cell_type": "code",
   "execution_count": null,
   "id": "classical-phenomenon",
   "metadata": {},
   "outputs": [],
   "source": [
    "occasionalOrders = groupedMeanDF[(groupedMeanDF[\"aggOrders\"] >= 5) & (groupedMeanDF[\"aggOrders\"] < 10)]\n",
    "occasionalOrders.head()"
   ]
  },
  {
   "cell_type": "code",
   "execution_count": null,
   "id": "political-concept",
   "metadata": {},
   "outputs": [],
   "source": [
    "infrequentOrders = groupedMeanDF[(groupedMeanDF[\"aggOrders\"] < 5) & (groupedMeanDF[\"aggOrders\"] > 1)]\n",
    "infrequentOrders.head()"
   ]
  },
  {
   "cell_type": "markdown",
   "id": "compressed-spine",
   "metadata": {},
   "source": [
    "# 2. Bonus Payments"
   ]
  },
  {
   "cell_type": "code",
   "execution_count": null,
   "id": "united-graduation",
   "metadata": {},
   "outputs": [],
   "source": [
    "needBonusDF = grubhubClean[grubhubClean[\"bonus\"] > 0]\n",
    "#needBonusDF.head()"
   ]
  },
  {
   "cell_type": "code",
   "execution_count": null,
   "id": "liable-parliament",
   "metadata": {},
   "outputs": [],
   "source": [
    "numberOfBonusOrders = len(needBonusDF)\n",
    "averageBonus = totalBonusPay/numberOfBonusOrders\n",
    "highestBonus = needBonusDF[\"bonus\"].max()\n",
    "percentWithBonus = numberOfBonusOrders/totalOrders\n",
    "lowestBonus = needBonusDF[\"bonus\"].min()"
   ]
  },
  {
   "cell_type": "code",
   "execution_count": null,
   "id": "overall-newport",
   "metadata": {},
   "outputs": [],
   "source": [
    "bonusBasicSummary = pd.DataFrame({\n",
    "    \n",
    "    \"Number Of Bonus Orders\": [numberOfBonusOrders],\n",
    "    \"% Orders With Bonus\": [percentWithBonus],\n",
    "    \"Highest Bonus\": [highestBonus],\n",
    "    \"Lowest Bonus\": [lowestBonus],\n",
    "    \"Average Bonus Per Order; Non-Null\": [averageBonus],\n",
    "    \"Bonus Per Order; All\":[bonusPerOrder]\n",
    "    \n",
    "})\n",
    "bonusBasicSummary"
   ]
  },
  {
   "cell_type": "markdown",
   "id": "suited-permission",
   "metadata": {},
   "source": [
    "# 2. More Digging into Bonuses"
   ]
  },
  {
   "cell_type": "code",
   "execution_count": null,
   "id": "electric-manchester",
   "metadata": {},
   "outputs": [],
   "source": [
    "biggestBonusesDF = needBonusDF[needBonusDF[\"bonus\"] >= 5]\n",
    "biggestBonusesDF"
   ]
  },
  {
   "cell_type": "code",
   "execution_count": null,
   "id": "collectible-trading",
   "metadata": {},
   "outputs": [],
   "source": [
    "littleBonusesDF = needBonusDF[needBonusDF[\"bonus\"] < 1]\n",
    "littleBonusesDF.head()"
   ]
  },
  {
   "cell_type": "code",
   "execution_count": null,
   "id": "complete-silver",
   "metadata": {},
   "outputs": [],
   "source": [
    "bigBonusResturants = groupedByEstablishment.filter(lambda x: x['bonus'].mean() >= 2.00)\n",
    "bigBonusResturants.head()"
   ]
  },
  {
   "cell_type": "code",
   "execution_count": null,
   "id": "crucial-pizza",
   "metadata": {},
   "outputs": [],
   "source": [
    "bigBonusResturantsMean = bigBonusResturants.groupby(['streetname', 'establishment']).mean()\n",
    "bigBonusResturantsMean"
   ]
  },
  {
   "cell_type": "markdown",
   "id": "rotary-package",
   "metadata": {},
   "source": [
    "# 3. Tipping Analysis"
   ]
  },
  {
   "cell_type": "code",
   "execution_count": null,
   "id": "reverse-vietnamese",
   "metadata": {},
   "outputs": [],
   "source": [
    "bigTipDF = grubhubClean.loc[grubhubClean[\"tip\"] >10]\n",
    "bigTipDF.head()"
   ]
  },
  {
   "cell_type": "code",
   "execution_count": null,
   "id": "hydraulic-penalty",
   "metadata": {},
   "outputs": [],
   "source": [
    "bigTipResturants = groupedByEstablishment.filter(lambda x: x['tip'].mean() >= 10.00)\n",
    "mediumTipResturants = groupedByEstablishment.filter(lambda x: ((x['tip'].mean() >= 5.00) & (x['tip'].mean() < 10.00)))\n",
    "#mediumTipResturants.head()\n",
    "smallTipResturants = groupedByEstablishment.filter(lambda x: x['tip'].mean() < 5.00)\n",
    "#smallTipResturants.head()\n",
    "bigTipResturants"
   ]
  },
  {
   "cell_type": "code",
   "execution_count": null,
   "id": "treated-holmes",
   "metadata": {},
   "outputs": [],
   "source": [
    "bigTipLocCount = len(bigTipResturants[\"establishment\"].unique())\n",
    "mediumTipLocCount = len(mediumTipResturants[\"establishment\"].unique())\n",
    "smallTipLocCount = len(smallTipResturants[\"establishment\"].unique())"
   ]
  },
  {
   "cell_type": "code",
   "execution_count": null,
   "id": "polish-product",
   "metadata": {},
   "outputs": [],
   "source": [
    "tipBasicSummary = pd.DataFrame({\n",
    "    \n",
    "    \"Average Tips; All\": [averageTip],\n",
    "    \"Establishments, Mean Tip > 10\": [bigTipLocCount],\n",
    "    \"Establishments, Mean Tip 5 to 10\": [mediumTipLocCount],\n",
    "    \"Establishments, Mean Tip < 5\": [smallTipLocCount]\n",
    "    \n",
    "})\n",
    "tipBasicSummary"
   ]
  },
  {
   "cell_type": "markdown",
   "id": "middle-tattoo",
   "metadata": {},
   "source": [
    "# 3. More Digging into Tips"
   ]
  },
  {
   "cell_type": "code",
   "execution_count": null,
   "id": "adult-norfolk",
   "metadata": {},
   "outputs": [],
   "source": [
    "mediumTipDF = mediumTipResturants.groupby(['streetname', 'establishment'])\n",
    "mediumTipMeanDF = mediumTipDF.mean()\n",
    "mediumTipMeanDF.sort_values([\"tip\"],ascending=False).head(10)"
   ]
  },
  {
   "cell_type": "code",
   "execution_count": null,
   "id": "varying-graph",
   "metadata": {
    "scrolled": true
   },
   "outputs": [],
   "source": [
    "smallTipDF = smallTipResturants.groupby(['streetname', 'establishment'])\n",
    "smallTipMeanDF = smallTipDF.mean()\n",
    "smallTipMeanDF.sort_values([\"tip\"],ascending=False).tail()"
   ]
  },
  {
   "cell_type": "markdown",
   "id": "recognized-drink",
   "metadata": {},
   "source": [
    "#Editors Note, Bella order was canceled."
   ]
  },
  {
   "cell_type": "markdown",
   "id": "active-aside",
   "metadata": {},
   "source": [
    "# 4. Mileage Analysis"
   ]
  },
  {
   "cell_type": "code",
   "execution_count": null,
   "id": "assured-discount",
   "metadata": {},
   "outputs": [],
   "source": [
    "longDistanceResturaunts = groupedByEstablishment.filter(lambda x: x['miles'].mean() >= 10.00)\n",
    "longDistanceResturaunts.head(3) "
   ]
  },
  {
   "cell_type": "code",
   "execution_count": null,
   "id": "exclusive-sender",
   "metadata": {},
   "outputs": [],
   "source": [
    "mediumDistanceResturuants = groupedByEstablishment.filter(lambda x: ((x['miles'].mean() >= 5.00) & (x['miles'].mean() < 10.00)))\n",
    "mediumDistanceResturuants.head(3)"
   ]
  },
  {
   "cell_type": "code",
   "execution_count": null,
   "id": "visible-polls",
   "metadata": {},
   "outputs": [],
   "source": [
    "mediumDistanceDF = mediumDistanceResturuants.groupby(['streetname', 'establishment'])\n",
    "mediumDistanceMeanDF = mediumDistanceDF.mean()\n",
    "mediumDistanceMeanDF.sort_values([\"miles\"],ascending=False).head(10)"
   ]
  },
  {
   "cell_type": "code",
   "execution_count": null,
   "id": "arctic-integrity",
   "metadata": {},
   "outputs": [],
   "source": [
    "shortDistanceResturaunts = groupedByEstablishment.filter(lambda x: x['miles'].mean() < 5.00)\n",
    "shortDistanceResturaunts.head(3)"
   ]
  },
  {
   "cell_type": "code",
   "execution_count": null,
   "id": "sophisticated-latin",
   "metadata": {},
   "outputs": [],
   "source": [
    "shortDistanceDF = shortDistanceResturaunts.groupby(['streetname', 'establishment'])\n",
    "shortDistanceMeanDF = shortDistanceDF.mean()\n",
    "shortDistanceMeanDF.sort_values([\"miles\"],ascending=False).tail(15)"
   ]
  },
  {
   "cell_type": "code",
   "execution_count": null,
   "id": "rotary-imagination",
   "metadata": {},
   "outputs": [],
   "source": [
    "shortDistanceMeanDF.describe()"
   ]
  },
  {
   "cell_type": "markdown",
   "id": "based-mercy",
   "metadata": {},
   "source": [
    "# Graphs"
   ]
  },
  {
   "cell_type": "code",
   "execution_count": null,
   "id": "convenient-seller",
   "metadata": {},
   "outputs": [],
   "source": [
    "x_axis = grubhubClean[\"total\"]\n",
    "y_axis = grubhubClean[\"miles\"]\n",
    "\n",
    "correlation_coeff = st.pearsonr(x_axis, y_axis)\n",
    "print(f\"The correlation coefficient: {round(correlation_coeff[0],2)}.\")\n",
    "\n",
    "#Linear Regression\n",
    "(slope, intercept, rvalue, pvalue, stderr) = st.linregress(x_axis, y_axis)\n",
    "regression_value = slope * x_axis + intercept\n",
    "line_equation = \"y = \" + str(round(slope,2)) + \"x + \" + str(round(intercept,2))\n",
    "\n",
    "\n",
    "plt.scatter(x_axis, y_axis)\n",
    "plt.plot(x_axis, regression_value, \"r-\")\n",
    "#plt.annotate(line_equation, (color=\"red\")\n",
    "corr_coeff_str = \"correlation coefficient:\" + str(round(correlation_coeff[0],2))\n",
    "#plt.annotate(corr_coeff_str, (color=\"red\")\n",
    "#plt.ylim()\n",
    "plt.title(\"Total vs Miles\")\n",
    "plt.xlabel(\"Total\")\n",
    "plt.ylabel(\"Miles\")\n",
    "plt.show()"
   ]
  },
  {
   "cell_type": "code",
   "execution_count": null,
   "id": "mediterranean-situation",
   "metadata": {},
   "outputs": [],
   "source": [
    "x_axis = grubhubClean['miles']\n",
    "y_axis = grubhubClean['mileagepay']\n",
    "\n",
    "correlation_coeff = st.pearsonr(x_axis, y_axis)\n",
    "print(f\"The correlation coefficient: {round(correlation_coeff[0],2)}.\")\n",
    "\n",
    "#Linear Regression\n",
    "(slope, intercept, rvalue, pvalue, stderr) = st.linregress(x_axis, y_axis)\n",
    "regression_value = slope * x_axis + intercept\n",
    "line_equation = \"y = \" + str(round(slope,2)) + \"x + \" + str(round(intercept,2))\n",
    "\n",
    "\n",
    "plt.scatter(x_axis, y_axis)\n",
    "plt.plot(x_axis, regression_value, \"r-\")\n",
    "#plt.annotate(line_equation, (color=\"red\")\n",
    "corr_coeff_str = \"correlation coefficient:\" + str(round(correlation_coeff[0],2))\n",
    "#plt.annotate(corr_coeff_str, (color=\"red\")\n",
    "#plt.ylim()\n",
    "plt.title(\"Miles vs Mileage Pay\")\n",
    "plt.xlabel(\"Miles\")\n",
    "plt.ylabel(\"Mileage Pay\")\n",
    "plt.show()"
   ]
  },
  {
   "cell_type": "code",
   "execution_count": null,
   "id": "positive-blocking",
   "metadata": {},
   "outputs": [],
   "source": [
    "x_axis = grubhubClean['tip']\n",
    "y_axis = grubhubClean['total']\n",
    "\n",
    "correlation_coeff = st.pearsonr(x_axis, y_axis)\n",
    "print(f\"The correlation coefficient: {round(correlation_coeff[0],2)}.\")\n",
    "\n",
    "#Linear Regression\n",
    "(slope, intercept, rvalue, pvalue, stderr) = st.linregress(x_axis, y_axis)\n",
    "regression_value = slope * x_axis + intercept\n",
    "line_equation = \"y = \" + str(round(slope,2)) + \"x + \" + str(round(intercept,2))\n",
    "\n",
    "\n",
    "plt.scatter(x_axis, y_axis)\n",
    "plt.plot(x_axis, regression_value, \"r-\")\n",
    "#plt.annotate(line_equation, (color=\"red\")\n",
    "corr_coeff_str = \"correlation coefficient:\" + str(round(correlation_coeff[0],2))\n",
    "#plt.annotate(corr_coeff_str, (color=\"red\")\n",
    "#plt.ylim()\n",
    "plt.title(\"Tip vs Total\")\n",
    "plt.xlabel(\"Tip\")\n",
    "plt.ylabel(\"Total\")\n",
    "plt.show()"
   ]
  },
  {
   "cell_type": "code",
   "execution_count": null,
   "id": "spoken-seattle",
   "metadata": {},
   "outputs": [],
   "source": [
    "x_axis = grubhubClean['timepay']\n",
    "y_axis = grubhubClean['total']\n",
    "\n",
    "correlation_coeff = st.pearsonr(x_axis, y_axis)\n",
    "print(f\"The correlation coefficient: {round(correlation_coeff[0],2)}.\")\n",
    "\n",
    "#Linear Regression\n",
    "(slope, intercept, rvalue, pvalue, stderr) = st.linregress(x_axis, y_axis)\n",
    "regression_value = slope * x_axis + intercept\n",
    "line_equation = \"y = \" + str(round(slope,2)) + \"x + \" + str(round(intercept,2))\n",
    "\n",
    "\n",
    "plt.scatter(x_axis, y_axis)\n",
    "plt.plot(x_axis, regression_value, \"r-\")\n",
    "#plt.annotate(line_equation, (color=\"red\")\n",
    "corr_coeff_str = \"correlation coefficient:\" + str(round(correlation_coeff[0],2))\n",
    "#plt.annotate(corr_coeff_str, (color=\"red\")\n",
    "#plt.ylim()\n",
    "plt.title(\"Time vs Total\")\n",
    "plt.xlabel(\"Time\")\n",
    "plt.ylabel(\"Total\")\n",
    "plt.show()"
   ]
  },
  {
   "cell_type": "code",
   "execution_count": null,
   "id": "working-indianapolis",
   "metadata": {},
   "outputs": [],
   "source": [
    "x_axis = grubhubClean['bonus']\n",
    "y_axis = grubhubClean['total']\n",
    "\n",
    "correlation_coeff = st.pearsonr(x_axis, y_axis)\n",
    "print(f\"The correlation coefficient: {round(correlation_coeff[0],2)}.\")\n",
    "\n",
    "#Linear Regression\n",
    "(slope, intercept, rvalue, pvalue, stderr) = st.linregress(x_axis, y_axis)\n",
    "regression_value = slope * x_axis + intercept\n",
    "line_equation = \"y = \" + str(round(slope,2)) + \"x + \" + str(round(intercept,2))\n",
    "\n",
    "\n",
    "plt.scatter(x_axis, y_axis)\n",
    "plt.plot(x_axis, regression_value, \"r-\")\n",
    "#plt.annotate(line_equation, (color=\"red\")\n",
    "corr_coeff_str = \"correlation coefficient:\" + str(round(correlation_coeff[0],2))\n",
    "#plt.annotate(corr_coeff_str, (color=\"red\")\n",
    "#plt.ylim()\n",
    "plt.title(\"Bonus vs Total\")\n",
    "plt.xlabel(\"Bonus\")\n",
    "plt.ylabel(\"Total\")\n",
    "plt.show()"
   ]
  },
  {
   "cell_type": "code",
   "execution_count": null,
   "id": "minor-geometry",
   "metadata": {},
   "outputs": [],
   "source": [
    "# Once More, with grouped means instead"
   ]
  },
  {
   "cell_type": "code",
   "execution_count": null,
   "id": "medium-commerce",
   "metadata": {},
   "outputs": [],
   "source": [
    "x_axis = groupedMeanDF['bonus']\n",
    "y_axis = groupedMeanDF['total']\n",
    "\n",
    "correlation_coeff = st.pearsonr(x_axis, y_axis)\n",
    "print(f\"The correlation coefficient: {round(correlation_coeff[0],2)}.\")\n",
    "\n",
    "#Linear Regression\n",
    "(slope, intercept, rvalue, pvalue, stderr) = st.linregress(x_axis, y_axis)\n",
    "regression_value = slope * x_axis + intercept\n",
    "line_equation = \"y = \" + str(round(slope,2)) + \"x + \" + str(round(intercept,2))\n",
    "\n",
    "\n",
    "plt.scatter(x_axis, y_axis)\n",
    "plt.plot(x_axis, regression_value, \"r-\")\n",
    "#plt.annotate(line_equation, (color=\"red\")\n",
    "corr_coeff_str = \"correlation coefficient:\" + str(round(correlation_coeff[0],2))\n",
    "#plt.annotate(corr_coeff_str, (color=\"red\")\n",
    "#plt.ylim()\n",
    "plt.title(\"Means: Bonus vs Total\")\n",
    "plt.xlabel(\"Bonus\")\n",
    "plt.ylabel(\"Total\")\n",
    "plt.show()"
   ]
  },
  {
   "cell_type": "code",
   "execution_count": null,
   "id": "intensive-zambia",
   "metadata": {},
   "outputs": [],
   "source": [
    "x_axis = grubhubClean['total']\n",
    "y_axis = grubhubClean['rating']\n",
    "\n",
    "correlation_coeff = st.pearsonr(x_axis, y_axis)\n",
    "print(f\"The correlation coefficient: {round(correlation_coeff[0],2)}.\")\n",
    "\n",
    "#Linear Regression\n",
    "(slope, intercept, rvalue, pvalue, stderr) = st.linregress(x_axis, y_axis)\n",
    "regression_value = slope * x_axis + intercept\n",
    "line_equation = \"y = \" + str(round(slope,2)) + \"x + \" + str(round(intercept,2))\n",
    "\n",
    "\n",
    "plt.scatter(x_axis, y_axis)\n",
    "plt.plot(x_axis, regression_value, \"r-\")\n",
    "#plt.annotate(line_equation, (color=\"red\")\n",
    "corr_coeff_str = \"correlation coefficient:\" + str(round(correlation_coeff[0],2))\n",
    "#plt.annotate(corr_coeff_str, (color=\"red\")\n",
    "#plt.ylim()\n",
    "plt.title(\"Rating vs Total\")\n",
    "plt.xlabel(\"Total\")\n",
    "plt.ylabel(\"Rating\")\n",
    "plt.show()"
   ]
  },
  {
   "cell_type": "code",
   "execution_count": null,
   "id": "respected-wrist",
   "metadata": {},
   "outputs": [],
   "source": [
    "x_axis = grubhubClean['tip']\n",
    "y_axis = grubhubClean['rating']\n",
    "\n",
    "correlation_coeff = st.pearsonr(x_axis, y_axis)\n",
    "print(f\"The correlation coefficient: {round(correlation_coeff[0],2)}.\")\n",
    "\n",
    "#Linear Regression\n",
    "(slope, intercept, rvalue, pvalue, stderr) = st.linregress(x_axis, y_axis)\n",
    "regression_value = slope * x_axis + intercept\n",
    "line_equation = \"y = \" + str(round(slope,2)) + \"x + \" + str(round(intercept,2))\n",
    "\n",
    "\n",
    "plt.scatter(x_axis, y_axis)\n",
    "plt.plot(x_axis, regression_value, \"r-\")\n",
    "#plt.annotate(line_equation, (color=\"red\")\n",
    "corr_coeff_str = \"correlation coefficient:\" + str(round(correlation_coeff[0],2))\n",
    "#plt.annotate(corr_coeff_str, (color=\"red\")\n",
    "#plt.ylim()\n",
    "plt.title(\"Tip vs Rating\")\n",
    "plt.xlabel(\"Tip\")\n",
    "plt.ylabel(\"Rating\")\n",
    "plt.show()"
   ]
  },
  {
   "cell_type": "code",
   "execution_count": null,
   "id": "scenic-letter",
   "metadata": {},
   "outputs": [],
   "source": [
    "x_axis = grubhubClean['miles']\n",
    "y_axis = grubhubClean['rating']\n",
    "\n",
    "correlation_coeff = st.pearsonr(x_axis, y_axis)\n",
    "print(f\"The correlation coefficient: {round(correlation_coeff[0],2)}.\")\n",
    "\n",
    "#Linear Regression\n",
    "(slope, intercept, rvalue, pvalue, stderr) = st.linregress(x_axis, y_axis)\n",
    "regression_value = slope * x_axis + intercept\n",
    "line_equation = \"y = \" + str(round(slope,2)) + \"x + \" + str(round(intercept,2))\n",
    "\n",
    "\n",
    "plt.scatter(x_axis, y_axis)\n",
    "plt.plot(x_axis, regression_value, \"r-\")\n",
    "#plt.annotate(line_equation, (color=\"red\")\n",
    "corr_coeff_str = \"correlation coefficient:\" + str(round(correlation_coeff[0],2))\n",
    "#plt.annotate(corr_coeff_str, (color=\"red\")\n",
    "#plt.ylim()\n",
    "plt.title(\"Miles vs Rating\")\n",
    "plt.xlabel(\"Miles\")\n",
    "plt.ylabel(\"Rating\")\n",
    "plt.show()"
   ]
  },
  {
   "cell_type": "code",
   "execution_count": null,
   "id": "double-thompson",
   "metadata": {},
   "outputs": [],
   "source": []
  }
 ],
 "metadata": {
  "kernelspec": {
   "display_name": "Python 3",
   "language": "python",
   "name": "python3"
  },
  "language_info": {
   "codemirror_mode": {
    "name": "ipython",
    "version": 3
   },
   "file_extension": ".py",
   "mimetype": "text/x-python",
   "name": "python",
   "nbconvert_exporter": "python",
   "pygments_lexer": "ipython3",
   "version": "3.8.8"
  }
 },
 "nbformat": 4,
 "nbformat_minor": 5
}
